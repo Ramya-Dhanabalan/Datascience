{
 "cells": [
  {
   "cell_type": "raw",
   "id": "c3909009-5e8b-44ca-9824-1a32ba103759",
   "metadata": {},
   "source": [
    "Background:\n",
    "Bombay hospitality Ltd. operates a franchise model for producing exotic Norwegian dinners throughout New England. The operating cost for a franchise in a week (W) is given by the equation W = $1,000 + $5X, where X represents the number of units produced in a week. Recent feedback from restaurant owners suggests that this cost model may no longer be accurate, as their observed weekly operating costs are higher.\n",
    "Objective:\n",
    "To investigate the restaurant owners' claim about the increase in weekly operating costs using hypothesis testing.\n",
    "Data Provided:\n",
    "•\tThe theoretical weekly operating cost model: W = $1,000 + $5X\n",
    "•\tSample of 25 restaurants with a mean weekly cost of Rs. 3,050\n",
    "•\tNumber of units produced in a week (X) follows a normal distribution with a mean (μ) of 600 units and a standard deviation (σ) of 25 units\n",
    "Assignment Tasks:\n",
    "1. State the Hypotheses statement:\n",
    "2. Calculate the Test Statistic:\n",
    "Use the following formula to calculate the test statistic (t):\n",
    "where:\n",
    "•\tˉxˉ = sample mean weekly cost (Rs. 3,050)\n",
    "•\tμ = theoretical mean weekly cost according to the cost model (W = $1,000 + $5X for X = 600 units)\n",
    "•\tσ = 5*25 units\n",
    "•\tn = sample size (25 restaurants)\n",
    "3. Determine the Critical Value:\n",
    "Using the alpha level of 5% (α = 0.05), determine the critical value from the standard normal (Z) distribution table.\n",
    "4. Make a Decision:\n",
    "Compare the test statistic with the critical value to decide whether to reject the null hypothesis.\n",
    "5. Conclusion:\n",
    "Based on the decision in step 4, conclude whether there is strong evidence to support the restaurant owners' claim that the weekly operating costs are higher than the model suggests.\n",
    "\n",
    "Submission Guidelines:\n",
    "•\tPrepare python file detailing each step of your hypothesis testing process.\n",
    "•\tInclude calculations for the test statistic and the critical value.\n",
    "•\tProvide a clear conclusion based on your analysis.\n"
   ]
  },
  {
   "cell_type": "code",
   "execution_count": 1,
   "id": "0d38c4d3-17aa-4535-8888-0c4b5d74be4e",
   "metadata": {},
   "outputs": [],
   "source": [
    "import numpy as np\n",
    "import scipy.stats as stats"
   ]
  },
  {
   "cell_type": "code",
   "execution_count": 3,
   "id": "4c4414b1-5296-4682-95b2-568112116c6a",
   "metadata": {},
   "outputs": [],
   "source": [
    "## 1) Hypothesis Statement:\n",
    "## H0:The operating cost model is accurate and no increase in operating cost\n",
    "## Ha: The operating cost model is no accurate and weekly operating costs are higher."
   ]
  },
  {
   "cell_type": "code",
   "execution_count": 5,
   "id": "f84199bb-7b9f-4a55-97d6-2f9a1a3b1fb6",
   "metadata": {},
   "outputs": [],
   "source": [
    "## 2) Given_data:\n",
    "## W=1000 +5X\n",
    "# Weekly operating cost, where X is number of units produced in a week.\n",
    "sample_size = 25\n",
    "sample_mean = 3050\n",
    "# No. of units produced in a week.\n",
    "X = 600\n",
    "# Population standard deviation of X = 25\n",
    "pop_std = 5*25 # Population standard deviation of W\n",
    "pop_mean = 1000 + 5*600"
   ]
  },
  {
   "cell_type": "code",
   "execution_count": 9,
   "id": "3cabb2b7-3784-4749-90ce-5a826f83cb2e",
   "metadata": {},
   "outputs": [],
   "source": [
    "## 3) Calculating the Zscore, since population standard deviation is known\n",
    "z_score = (sample_mean - pop_mean)/(pop_std/np.sqrt(sample_size))"
   ]
  },
  {
   "cell_type": "code",
   "execution_count": 10,
   "id": "f6534487-0adb-4fc3-944a-b3e00fa2edb4",
   "metadata": {},
   "outputs": [
    {
     "data": {
      "text/plain": [
       "-38.0"
      ]
     },
     "execution_count": 10,
     "metadata": {},
     "output_type": "execute_result"
    }
   ],
   "source": [
    "z_score"
   ]
  },
  {
   "cell_type": "code",
   "execution_count": 12,
   "id": "f88095ab-bb19-4c78-8bd8-3726bb71121d",
   "metadata": {},
   "outputs": [
    {
     "data": {
      "text/plain": [
       "-1.6448536269514729"
      ]
     },
     "execution_count": 12,
     "metadata": {},
     "output_type": "execute_result"
    }
   ],
   "source": [
    "## 4)Determine the Z-Critical Value for alpha level of 5%\n",
    "z_critical=stats.norm.ppf(0.05) ##ppf---point percentile function\n",
    "z_critical"
   ]
  },
  {
   "cell_type": "code",
   "execution_count": 13,
   "id": "6de35599-01be-403e-a74b-1df76d2259d8",
   "metadata": {},
   "outputs": [],
   "source": [
    "## 5) Make a Decision:\n",
    "## Compare the test statistic with the critical value to decide whether to reject the null hypothesis."
   ]
  },
  {
   "cell_type": "raw",
   "id": "9bb8ed85-4f3d-4236-8e8d-4c9dd089f229",
   "metadata": {},
   "source": [
    "z_score=-38.0<z_critical=-1.6485\n",
    "since z_score is much less than z_critical value in the negetive side so, we fail to reject the Null hypothesis(H0)."
   ]
  },
  {
   "cell_type": "markdown",
   "id": "1bf82cda-31af-460d-a7e4-f026416bf526",
   "metadata": {},
   "source": [
    "## Conclusion:"
   ]
  },
  {
   "cell_type": "raw",
   "id": "aecf6a3a-3cc8-40aa-b68c-b436fb7e64b3",
   "metadata": {},
   "source": [
    "Based on the hypothesis test conducted:\n",
    "The theoretical weekly operating cost (as per the model) for producing 600 units is Rs. 4,000.\n",
    "The sample of 25 restaurants reported an average weekly cost of Rs. 3,050, which is significantly lower than the model's prediction.\n",
    "The calculated Z-test statistic is -38, which is far less than the critical value of -1.645 at a 5% significance level (one-tailed test)."
   ]
  },
  {
   "cell_type": "raw",
   "id": "5b0f23e3-fe36-4768-b0e1-3b26ec68d47d",
   "metadata": {},
   "source": [
    "From the above calculations,we fail to reject the null hypothesis.There is no statistical evidence to support the restaurant owners' claim that the weekly operating costs have increased. In fact, the sample data suggests the opposite — that the actual operating costs are significantly lower than predicted by the current model.This suggests that the sample mean is actually much lower than expected, which contradicts the claim of increased costs."
   ]
  }
 ],
 "metadata": {
  "kernelspec": {
   "display_name": "Python [conda env:base] *",
   "language": "python",
   "name": "conda-base-py"
  },
  "language_info": {
   "codemirror_mode": {
    "name": "ipython",
    "version": 3
   },
   "file_extension": ".py",
   "mimetype": "text/x-python",
   "name": "python",
   "nbconvert_exporter": "python",
   "pygments_lexer": "ipython3",
   "version": "3.12.7"
  }
 },
 "nbformat": 4,
 "nbformat_minor": 5
}
