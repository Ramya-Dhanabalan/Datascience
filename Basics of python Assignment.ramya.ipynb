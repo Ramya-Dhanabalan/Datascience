{
 "cells": [
  {
   "cell_type": "markdown",
   "id": "764c65fe-6df6-4f60-8ad8-322b0bf520c2",
   "metadata": {},
   "source": [
    "## Exercise 1: Prime Numbers"
   ]
  },
  {
   "cell_type": "markdown",
   "id": "feaf8e7e-6016-4c8d-8dbe-e09dd1880303",
   "metadata": {},
   "source": [
    "#### To Check Whether a Given Number is PRIME OR NOT:"
   ]
  },
  {
   "cell_type": "code",
   "execution_count": 118,
   "id": "e1e60a45-4d67-45d9-98b9-86e9996b5c8a",
   "metadata": {},
   "outputs": [
    {
     "name": "stdin",
     "output_type": "stream",
     "text": [
      "Enter the Numbers: 67\n"
     ]
    },
    {
     "name": "stdout",
     "output_type": "stream",
     "text": [
      "67 is a Prime Number\n"
     ]
    }
   ],
   "source": [
    "# Natural Number > 1\n",
    "# Which has only 2 factors 1 and itself\n",
    "\n",
    "#Generate a input integer\n",
    "n=int(input(\"Enter the Numbers:\"))\n",
    "# To count how many factors are there\n",
    "count=0 \n",
    "#condition: Number greater than 1  \n",
    "if n>1: \n",
    "    #loop function between 1 to n+1\n",
    "    for i in range(1,n+1):\n",
    "    # use modulus operator to divided n & i\n",
    "        if n%i == 0:\n",
    "            # if it is zero it increase the count\n",
    "            count+=1\n",
    "# call the function- prime numbers having 2 factors\n",
    "if count==2:\n",
    "    print(n,'is a Prime Number')\n",
    "# else: more than 2 factors\n",
    "else:\n",
    "    print(n,'is not a Prime Number')"
   ]
  },
  {
   "cell_type": "markdown",
   "id": "42e59780-77f7-4775-b5f9-ff3ed15dab75",
   "metadata": {},
   "source": [
    "## Exercise 2: Product Of Random Numbers"
   ]
  },
  {
   "cell_type": "markdown",
   "id": "7ae8265c-047d-40b1-accd-72f4e9a144e2",
   "metadata": {},
   "source": [
    "#### To Generate a two Random Numbers & Product of these Numbers"
   ]
  },
  {
   "cell_type": "code",
   "execution_count": 39,
   "id": "f57cdd39-cb7c-4b4f-a03c-5d4e20f4bcb1",
   "metadata": {},
   "outputs": [
    {
     "name": "stdin",
     "output_type": "stream",
     "text": [
      "Product of 3 and 10 is.. 30\n"
     ]
    },
    {
     "name": "stdout",
     "output_type": "stream",
     "text": [
      "Correct\n"
     ]
    }
   ],
   "source": [
    "#To Generate a two Random Numbers & Product of these Numbers\n",
    "# ask the user to answer the product of these numbers check if the user's answer is correct or not\n",
    "\n",
    "# To import random (system gives random numbers)\n",
    "import random\n",
    "# Generate two random integer n1  & n2 (to give the range)\n",
    "n1= random.randint(1,5)\n",
    "n2= random.randint(5,10)\n",
    "# Product of these numbers\n",
    "system_answer= n1*n2\n",
    "#generate a input integer (format)\n",
    "user_answer=int(input(f'Product of {n1} and {n2} is..'))\n",
    "#user's answer - check the product of these numbers \n",
    "if system_answer==user_answer:\n",
    "    print(\"Correct\")\n",
    "else:\n",
    "    print(\"Incorrect\")"
   ]
  },
  {
   "cell_type": "markdown",
   "id": "b8a9e3ad-21a2-4e12-8595-c020bdf8d4c4",
   "metadata": {},
   "source": [
    "## Exercise 3: Squares Of Even/Odd Numbers"
   ]
  },
  {
   "cell_type": "markdown",
   "id": "6953675a-c6b9-483c-9c69-9240a93e820e",
   "metadata": {},
   "source": [
    "#### Squares Of Even/Odd Numbers within Range of 100 to 200"
   ]
  },
  {
   "cell_type": "code",
   "execution_count": 63,
   "id": "dbd56e24-dcbf-4e22-991f-e5df1cc7ef5d",
   "metadata": {},
   "outputs": [
    {
     "name": "stdout",
     "output_type": "stream",
     "text": [
      "square of 101 is 10201\n",
      "square of 103 is 10609\n",
      "square of 105 is 11025\n",
      "square of 107 is 11449\n",
      "square of 109 is 11881\n",
      "square of 111 is 12321\n",
      "square of 113 is 12769\n",
      "square of 115 is 13225\n",
      "square of 117 is 13689\n",
      "square of 119 is 14161\n",
      "square of 121 is 14641\n",
      "square of 123 is 15129\n",
      "square of 125 is 15625\n",
      "square of 127 is 16129\n",
      "square of 129 is 16641\n",
      "square of 131 is 17161\n",
      "square of 133 is 17689\n",
      "square of 135 is 18225\n",
      "square of 137 is 18769\n",
      "square of 139 is 19321\n",
      "square of 141 is 19881\n",
      "square of 143 is 20449\n",
      "square of 145 is 21025\n",
      "square of 147 is 21609\n",
      "square of 149 is 22201\n",
      "square of 151 is 22801\n",
      "square of 153 is 23409\n",
      "square of 155 is 24025\n",
      "square of 157 is 24649\n",
      "square of 159 is 25281\n",
      "square of 161 is 25921\n",
      "square of 163 is 26569\n",
      "square of 165 is 27225\n",
      "square of 167 is 27889\n",
      "square of 169 is 28561\n",
      "square of 171 is 29241\n",
      "square of 173 is 29929\n",
      "square of 175 is 30625\n",
      "square of 177 is 31329\n",
      "square of 179 is 32041\n",
      "square of 181 is 32761\n",
      "square of 183 is 33489\n",
      "square of 185 is 34225\n",
      "square of 187 is 34969\n",
      "square of 189 is 35721\n",
      "square of 191 is 36481\n",
      "square of 193 is 37249\n",
      "square of 195 is 38025\n",
      "square of 197 is 38809\n",
      "square of 199 is 39601\n"
     ]
    }
   ],
   "source": [
    "#squares of odd numbers within range of 100 to 200\n",
    "#loop condition (range)\n",
    "for i in range(100,200):\n",
    "    # odd numbers - remainder is 1\n",
    "    if i%2==1:\n",
    "        #print the square of that odd numbers(format)\n",
    "        print(f'square of {i} is {i*i}')"
   ]
  },
  {
   "cell_type": "code",
   "execution_count": 65,
   "id": "621567c0-0794-4bbc-ae24-3a37282cee23",
   "metadata": {},
   "outputs": [
    {
     "name": "stdout",
     "output_type": "stream",
     "text": [
      "square of 100 is 10000\n",
      "square of 102 is 10404\n",
      "square of 104 is 10816\n",
      "square of 106 is 11236\n",
      "square of 108 is 11664\n",
      "square of 110 is 12100\n",
      "square of 112 is 12544\n",
      "square of 114 is 12996\n",
      "square of 116 is 13456\n",
      "square of 118 is 13924\n",
      "square of 120 is 14400\n",
      "square of 122 is 14884\n",
      "square of 124 is 15376\n",
      "square of 126 is 15876\n",
      "square of 128 is 16384\n",
      "square of 130 is 16900\n",
      "square of 132 is 17424\n",
      "square of 134 is 17956\n",
      "square of 136 is 18496\n",
      "square of 138 is 19044\n",
      "square of 140 is 19600\n",
      "square of 142 is 20164\n",
      "square of 144 is 20736\n",
      "square of 146 is 21316\n",
      "square of 148 is 21904\n",
      "square of 150 is 22500\n",
      "square of 152 is 23104\n",
      "square of 154 is 23716\n",
      "square of 156 is 24336\n",
      "square of 158 is 24964\n",
      "square of 160 is 25600\n",
      "square of 162 is 26244\n",
      "square of 164 is 26896\n",
      "square of 166 is 27556\n",
      "square of 168 is 28224\n",
      "square of 170 is 28900\n",
      "square of 172 is 29584\n",
      "square of 174 is 30276\n",
      "square of 176 is 30976\n",
      "square of 178 is 31684\n",
      "square of 180 is 32400\n",
      "square of 182 is 33124\n",
      "square of 184 is 33856\n",
      "square of 186 is 34596\n",
      "square of 188 is 35344\n",
      "square of 190 is 36100\n",
      "square of 192 is 36864\n",
      "square of 194 is 37636\n",
      "square of 196 is 38416\n",
      "square of 198 is 39204\n"
     ]
    }
   ],
   "source": [
    "#squares of even numbers within range of 100 to 200\n",
    "#loop condition (range)\n",
    "for i in range(100,200):\n",
    "    # even numbers - remainder is 0\n",
    "    if i%2==0:\n",
    "        # print the square of that even numbers(format)\n",
    "        print(f'square of {i} is {i*i}')"
   ]
  },
  {
   "cell_type": "markdown",
   "id": "85e4e81a-8e61-4bb7-8e71-e8e18e20c556",
   "metadata": {},
   "source": [
    "## Exercise 4 : Word Counter"
   ]
  },
  {
   "cell_type": "markdown",
   "id": "e4f86641-0334-458c-b390-75bf3ea94285",
   "metadata": {},
   "source": [
    "#### To count the number of Words in a given text"
   ]
  },
  {
   "cell_type": "code",
   "execution_count": 17,
   "id": "2b0157a3-85e8-4636-93c7-948328614b25",
   "metadata": {},
   "outputs": [
    {
     "name": "stdout",
     "output_type": "stream",
     "text": [
      "'This': 2\n",
      "'is': 1\n",
      "'a': 1\n",
      "'sample': 1\n",
      "'text': 2\n",
      "'will': 1\n",
      "'be': 1\n",
      "'used': 1\n",
      "'to': 1\n",
      "'demonstrate': 1\n",
      "'the': 1\n",
      "'word': 1\n",
      "'counter': 1\n"
     ]
    }
   ],
   "source": [
    "# define a function\n",
    "def count_word(text):\n",
    "    # split the input text into words based on spaces\n",
    "    words = text.split()\n",
    "    # create a dictionary to store word counts\n",
    "    counts ={}\n",
    "    # count the frequency of each word\n",
    "    for word in words:\n",
    "        # Remove punctuation\n",
    "        word = word.strip('.,!?')\n",
    "        # count the occurences of each word\n",
    "        if word in counts:\n",
    "            counts[word] += 1\n",
    "        else:\n",
    "            counts[word] = 1\n",
    "    # print each word and its count\n",
    "    for word, count in counts.items():\n",
    "        print(f\"'{word}': {count}\")\n",
    "text =\"This is a sample text. This text will be used to demonstrate the word counter.\"\n",
    "# call the function and print the result\n",
    "count_word(text)"
   ]
  },
  {
   "cell_type": "markdown",
   "id": "d01009ec-45e1-40f5-85c0-73ef7a66bd18",
   "metadata": {},
   "source": [
    "## Exercise 5 : Check for Palindrome"
   ]
  },
  {
   "cell_type": "markdown",
   "id": "e0cacb48-3fb9-4c66-a19b-5b07813f745c",
   "metadata": {},
   "source": [
    "#### To takes a String as input and returns True if the string is a palindrome"
   ]
  },
  {
   "cell_type": "code",
   "execution_count": 165,
   "id": "dbcc5ad2-4a9f-4280-b4e8-eef0ce687e2d",
   "metadata": {},
   "outputs": [
    {
     "name": "stdout",
     "output_type": "stream",
     "text": [
      "True\n"
     ]
    }
   ],
   "source": [
    "# define a function\n",
    "def is_palindrome(input_string):\n",
    "    # string character input\n",
    "    input_string=str(input_string)\n",
    "    # reverse string\n",
    "    a=input_string[::-1]\n",
    "    # If condition- reverse string is not equal to input string \n",
    "    if  a!=input_string:\n",
    "        return False\n",
    "    elif input_string=='':\n",
    "        return False\n",
    "    else: return True \n",
    "# give the input string and print the result\n",
    "input_string = 'racecar'\n",
    "print(is_palindrome(input_string))"
   ]
  },
  {
   "cell_type": "code",
   "execution_count": null,
   "id": "42183220-98f1-4ba2-a42d-c077059a5365",
   "metadata": {},
   "outputs": [],
   "source": []
  }
 ],
 "metadata": {
  "kernelspec": {
   "display_name": "Python [conda env:base] *",
   "language": "python",
   "name": "conda-base-py"
  },
  "language_info": {
   "codemirror_mode": {
    "name": "ipython",
    "version": 3
   },
   "file_extension": ".py",
   "mimetype": "text/x-python",
   "name": "python",
   "nbconvert_exporter": "python",
   "pygments_lexer": "ipython3",
   "version": "3.12.7"
  }
 },
 "nbformat": 4,
 "nbformat_minor": 5
}
