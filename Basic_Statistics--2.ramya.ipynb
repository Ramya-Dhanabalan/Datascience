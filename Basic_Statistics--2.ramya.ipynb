{
 "cells": [
  {
   "cell_type": "code",
   "execution_count": 1,
   "id": "bad77029-5649-418e-9ee3-ac136cdaa755",
   "metadata": {},
   "outputs": [],
   "source": [
    "import numpy as np\n",
    "import scipy.stats as stats"
   ]
  },
  {
   "cell_type": "code",
   "execution_count": 2,
   "id": "184b6174-5fdd-4760-bbb4-263874efdc53",
   "metadata": {},
   "outputs": [
    {
     "data": {
      "text/plain": [
       "array([1.13, 1.55, 1.43, 0.92, 1.25, 1.36, 1.32, 0.85, 1.07, 1.48, 1.2 ,\n",
       "       1.33, 1.18, 1.22, 1.29])"
      ]
     },
     "execution_count": 2,
     "metadata": {},
     "output_type": "execute_result"
    }
   ],
   "source": [
    "## Given data\n",
    "data=np.array([1.13, 1.55, 1.43, 0.92, 1.25, 1.36, 1.32, 0.85, 1.07, 1.48, 1.20, 1.33, 1.18, 1.22, 1.29])\n",
    "data"
   ]
  },
  {
   "cell_type": "code",
   "execution_count": 5,
   "id": "f6ac67d4-7010-448b-88dc-c6c1ebf62b16",
   "metadata": {},
   "outputs": [
    {
     "data": {
      "text/plain": [
       "15"
      ]
     },
     "execution_count": 5,
     "metadata": {},
     "output_type": "execute_result"
    }
   ],
   "source": [
    "## Sample Size(n)-----Data Size\n",
    "n=len(data)     \n",
    "n"
   ]
  },
  {
   "cell_type": "markdown",
   "id": "da278e8f-adbb-4c04-bfbd-3a16ed3e4494",
   "metadata": {},
   "source": [
    "Mean : In Statistics refers to the average of a set of numbers.Its calculated by adding all the values together and dividing by the total number of values. \n",
    "Sample Mean is the average of a set of values taken from a larger population.It's used in statistics when you don't have data for the whole population,just a sample.It helps estimate the true average of the population"
   ]
  },
  {
   "cell_type": "markdown",
   "id": "5698cc64-8a1f-43d8-b6b3-dbcba2dfd792",
   "metadata": {},
   "source": [
    "Formula for sample_mean(x_bar)=sum of sample values/number of values in the sample"
   ]
  },
  {
   "cell_type": "code",
   "execution_count": 14,
   "id": "74ba4024-0d43-41ff-94e9-12f008d456aa",
   "metadata": {},
   "outputs": [
    {
     "data": {
      "text/plain": [
       "1.2386666666666666"
      ]
     },
     "execution_count": 14,
     "metadata": {},
     "output_type": "execute_result"
    }
   ],
   "source": [
    "## Sample_mean(x_bar)\n",
    "sample_mean=np.mean(data)\n",
    "sample_mean"
   ]
  },
  {
   "cell_type": "markdown",
   "id": "456ede51-ac80-4e8d-a2b0-ad03400c60bc",
   "metadata": {},
   "source": [
    "Standard deviation: It is a measure of how spread out the numbers are in a dataset.It tells us how much the values differ from the mean(average).\n",
    "** High standard deviation---Data points are spread out over a wider range.\n",
    "** Low standard deviation ---Data points are close to the mean.\n",
    "It helps in understanding the consistency or variability in the data.\n",
    "Sample Standard deviation measures how much the values in a sample deviatye from the sample mean.It tells you how spread out the data"
   ]
  },
  {
   "cell_type": "markdown",
   "id": "5e2a660b-0c7f-4dc6-a619-5f69ceff116d",
   "metadata": {},
   "source": [
    "Formula for sample standard deviation(s)=(square root of(sum of each sample value(xi)-sample mean)/degree of freedom(n-1))"
   ]
  },
  {
   "cell_type": "markdown",
   "id": "0b3a55d6-094a-4c44-b413-156d6a583eb3",
   "metadata": {},
   "source": [
    "ddof means Delta Degree of Freedom.\n",
    "In statistics, when calculating standard deviation,variance,ddof is a parameter that adjust the divisor in the formula\n",
    "*** If it take population std/variance:divide by n---use ddof=0\n",
    "*** If it take Sample std/variance: divide by n-1--- use ddof=1\n",
    "so,ddof=1 is commonly used when working with sample data to avoid underestimating variability."
   ]
  },
  {
   "cell_type": "code",
   "execution_count": 11,
   "id": "3084087b-88d9-44b8-864c-70b3bb333802",
   "metadata": {},
   "outputs": [
    {
     "data": {
      "text/plain": [
       "0.19316412956959936"
      ]
     },
     "execution_count": 11,
     "metadata": {},
     "output_type": "execute_result"
    }
   ],
   "source": [
    "## Sample Standard deviation (s)\n",
    "sample_std_dev=np.std(data, ddof=1)\n",
    "sample_std_dev"
   ]
  },
  {
   "cell_type": "markdown",
   "id": "d830062f-4a37-4ca9-b3a4-b6f72d4dfa0b",
   "metadata": {},
   "source": [
    "Degree of freedom(df): means the number of independent values that can vary in a statistical calculation.\n",
    "df=n-1"
   ]
  },
  {
   "cell_type": "code",
   "execution_count": 13,
   "id": "ea053a6f-58fe-4a93-9a28-5157758b76c4",
   "metadata": {},
   "outputs": [
    {
     "data": {
      "text/plain": [
       "14"
      ]
     },
     "execution_count": 13,
     "metadata": {},
     "output_type": "execute_result"
    }
   ],
   "source": [
    "## degree of freedom(df):\n",
    "df=n-1\n",
    "df"
   ]
  },
  {
   "cell_type": "markdown",
   "id": "37400991-f282-4dfb-bfd1-4dd5bb47445f",
   "metadata": {},
   "source": [
    "## Build 99% Confidence Interval Using Sample Standard Deviation"
   ]
  },
  {
   "cell_type": "code",
   "execution_count": 20,
   "id": "1322ffdc-dff1-42d1-ba63-3c7b61c1533c",
   "metadata": {},
   "outputs": [],
   "source": [
    "#### Assuming the sample is representative of the population, construct a 99% confidence interval for the mean number of characters printed before the print-head fails using the sample standard deviation. Explain the steps you take and the rationale behind using the t-distribution for this task."
   ]
  },
  {
   "cell_type": "code",
   "execution_count": 23,
   "id": "9aeba573-770b-4fbb-9e63-2b457895d53d",
   "metadata": {},
   "outputs": [
    {
     "data": {
      "text/plain": [
       "2.976842734370834"
      ]
     },
     "execution_count": 23,
     "metadata": {},
     "output_type": "execute_result"
    }
   ],
   "source": [
    "# t-critical value for 99% confidence interval\n",
    "t_critical = stats.t.ppf(0.995, df)\n",
    "t_critical"
   ]
  },
  {
   "cell_type": "markdown",
   "id": "193abbc5-5691-47d4-8b8e-1eed77da2ee2",
   "metadata": {},
   "source": [
    "Margin of error is the range around a sample estimate that expresses how much the estimate might differ from the true population value.\n",
    "Formula: z*(sample standard deviation/square root of sample size(n))"
   ]
  },
  {
   "cell_type": "code",
   "execution_count": 24,
   "id": "6fddcdfa-efa7-47d0-a5e7-3a0003ba508c",
   "metadata": {},
   "outputs": [
    {
     "data": {
      "text/plain": [
       "0.14846932822817596"
      ]
     },
     "execution_count": 24,
     "metadata": {},
     "output_type": "execute_result"
    }
   ],
   "source": [
    "# Margin of error (ME) for Task A\n",
    "ME_task_a = t_critical * (sample_std_dev / np.sqrt(n))\n",
    "ME_task_a"
   ]
  },
  {
   "cell_type": "code",
   "execution_count": 25,
   "id": "ebc9173d-d51d-4435-b165-2d3aaed9612c",
   "metadata": {},
   "outputs": [
    {
     "data": {
      "text/plain": [
       "(1.0901973384384906, 1.3871359948948425)"
      ]
     },
     "execution_count": 25,
     "metadata": {},
     "output_type": "execute_result"
    }
   ],
   "source": [
    "## Confidence Intervel for Task A:\n",
    "CI_task_a=(sample_mean - ME_task_a , sample_mean + ME_task_a)\n",
    "CI_task_a"
   ]
  },
  {
   "cell_type": "markdown",
   "id": "5459d991-50b6-4ac3-8dca-b492381d21d6",
   "metadata": {},
   "source": [
    "## Build 99% Confidence Interval Using Known Population Standard Deviation"
   ]
  },
  {
   "cell_type": "code",
   "execution_count": 21,
   "id": "8dad5e52-3314-417c-80de-707c87f3e2fd",
   "metadata": {},
   "outputs": [],
   "source": [
    "### If it were known that the population standard deviation is 0.2 million characters, construct a 99% confidence interval for the mean number of characters printed before failure."
   ]
  },
  {
   "cell_type": "code",
   "execution_count": 28,
   "id": "2b2d91e5-4143-45ec-9c39-7faadf2c8142",
   "metadata": {},
   "outputs": [],
   "source": [
    "## Given data:\n",
    "# Known population standard deviation for Task B\n",
    "population_std_dev = 0.2\n",
    "CI=0.99"
   ]
  },
  {
   "cell_type": "code",
   "execution_count": 29,
   "id": "26b034cd-0447-45d3-9d15-24f12297f929",
   "metadata": {},
   "outputs": [
    {
     "data": {
      "text/plain": [
       "2.5758293035489004"
      ]
     },
     "execution_count": 29,
     "metadata": {},
     "output_type": "execute_result"
    }
   ],
   "source": [
    "## z-critical value for 99% confidence interval\n",
    "z_critical=stats.norm.ppf(0.995)  ##ppf---point percentile function\n",
    "z_critical"
   ]
  },
  {
   "cell_type": "code",
   "execution_count": 30,
   "id": "583e00f3-24f6-49a9-95b1-ea47c38a14b7",
   "metadata": {},
   "outputs": [
    {
     "data": {
      "text/plain": [
       "0.13301525327090588"
      ]
     },
     "execution_count": 30,
     "metadata": {},
     "output_type": "execute_result"
    }
   ],
   "source": [
    "# Margin of error (ME) for Task B\n",
    "ME_task_b = z_critical * (population_std_dev / np.sqrt(n))\n",
    "ME_task_b"
   ]
  },
  {
   "cell_type": "code",
   "execution_count": 31,
   "id": "4ee269c7-596e-4615-bb15-a838d457d1aa",
   "metadata": {},
   "outputs": [
    {
     "data": {
      "text/plain": [
       "(1.1056514133957607, 1.3716819199375725)"
      ]
     },
     "execution_count": 31,
     "metadata": {},
     "output_type": "execute_result"
    }
   ],
   "source": [
    "## Confidence Intervel for Task B:\n",
    "CI_task_b=(sample_mean - ME_task_b , sample_mean + ME_task_b)\n",
    "CI_task_b"
   ]
  },
  {
   "cell_type": "code",
   "execution_count": 33,
   "id": "0ebc0c7a-28b0-4b95-ae59-21bb79f955f7",
   "metadata": {},
   "outputs": [
    {
     "name": "stdout",
     "output_type": "stream",
     "text": [
      "Sample Mean: 1.2386666666666666\n",
      "Sample Standard Deviation: 0.19316412956959936\n",
      "t_critical: 2.976842734370834\n",
      "Z_critical: 2.5758293035489004\n",
      "Confidence Interval for Task A (using sample std): (1.0901973384384906, 1.3871359948948425)\n",
      "Confidence Interval for Task B (using population std): (1.1056514133957607, 1.3716819199375725)\n"
     ]
    }
   ],
   "source": [
    "# Results:\n",
    "print(\"Sample Mean:\", sample_mean)\n",
    "print(\"Sample Standard Deviation:\", sample_std_dev)\n",
    "print(\"t_critical:\",t_critical)\n",
    "print(\"Z_critical:\",z_critical)\n",
    "print(\"Confidence Interval for Task A (using sample std):\", CI_task_a)\n",
    "print(\"Confidence Interval for Task B (using population std):\", CI_task_b)"
   ]
  }
 ],
 "metadata": {
  "kernelspec": {
   "display_name": "Python [conda env:base] *",
   "language": "python",
   "name": "conda-base-py"
  },
  "language_info": {
   "codemirror_mode": {
    "name": "ipython",
    "version": 3
   },
   "file_extension": ".py",
   "mimetype": "text/x-python",
   "name": "python",
   "nbconvert_exporter": "python",
   "pygments_lexer": "ipython3",
   "version": "3.12.7"
  }
 },
 "nbformat": 4,
 "nbformat_minor": 5
}
