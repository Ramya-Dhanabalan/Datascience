{
 "cells": [
  {
   "cell_type": "code",
   "execution_count": 11,
   "id": "e8a1cdfa-fbc4-4cec-866c-d2394e349b29",
   "metadata": {},
   "outputs": [],
   "source": [
    "import pandas as pd\n",
    "import pickle\n",
    "import streamlit as st\n",
    "import warnings\n",
    "warnings.filterwarnings('ignore')"
   ]
  },
  {
   "cell_type": "code",
   "execution_count": 12,
   "id": "114328a5-41db-4620-9d80-2e4da47ea3d9",
   "metadata": {},
   "outputs": [],
   "source": [
    "model=pickle.load(open('logistic_regression.pkl','rb')) ## read byte"
   ]
  },
  {
   "cell_type": "code",
   "execution_count": 13,
   "id": "08181c7e-4ca9-45be-ac8e-1fe209a86865",
   "metadata": {},
   "outputs": [
    {
     "data": {
      "text/plain": [
       "DeltaGenerator()"
      ]
     },
     "execution_count": 13,
     "metadata": {},
     "output_type": "execute_result"
    }
   ],
   "source": [
    "st.title('Model Deployment using Logistic Regression')"
   ]
  },
  {
   "cell_type": "code",
   "execution_count": 14,
   "id": "b58e5b2e-abf7-4d24-8591-8bddc0952f2e",
   "metadata": {},
   "outputs": [],
   "source": [
    "def user_input_parameters():\n",
    "    Pclass =st.sidebar.selectbox(\"Select Passenger Class (Pclass)\",[1,2,3])\n",
    "    Sex= st.sidebar.selectbox(\"Select Your Gender,Female-1,Male-0\",[0,1])\n",
    "    Age= st.sidebar.slider('Select Your Age',0,100)\n",
    "    SibSp = st.sidebar.slider(\"SibSp (siblings/spouses aboard)\",0,10,0)\n",
    "    Parch= st.sidebar.slider(\"Parch (Parents/Children aboard)\",0,10,0)\n",
    "    Fare= st.sidebar.number_input('Enter Fare',min_value=0.0,step=0.01)\n",
    "    # Convert Embarked to numeric values\n",
    "    embarked_options = {\"C\": 0, \"Q\": 1, \"S\": 2}  # Create a mapping for Embarked values\n",
    "    embarked_display = st.sidebar.selectbox(\"Select Embarkation Port\", [\"C\", \"Q\", \"S\"])\n",
    "    Embarked = embarked_options[embarked_display]  # Convert to numeric value\n",
    "    dict1={'Pclass':Pclass,'Sex': Sex,'Age':Age,'SibSp':SibSp,'Parch':Parch,'Fare':Fare,'Embarked':Embarked}\n",
    "    features= pd.DataFrame(dict1,index=[0])\n",
    "    return features\n",
    "df= user_input_parameters()\n",
    "pred_prob=model.predict_proba(df)\n",
    "pred= model.predict(df)\n",
    "st.subheader('Predicted')\n",
    "st.write('Survived ' if pred_prob[0][1]>=0.5 else 'Not Survived ')\n",
    "st.subheader('Predicted_Proba')\n",
    "st.write(pred_prob)"
   ]
  },
  {
   "cell_type": "code",
   "execution_count": 15,
   "id": "f65f84ca-743c-48f9-8fab-bf778799747a",
   "metadata": {},
   "outputs": [
    {
     "data": {
      "text/html": [
       "<div>\n",
       "<style scoped>\n",
       "    .dataframe tbody tr th:only-of-type {\n",
       "        vertical-align: middle;\n",
       "    }\n",
       "\n",
       "    .dataframe tbody tr th {\n",
       "        vertical-align: top;\n",
       "    }\n",
       "\n",
       "    .dataframe thead th {\n",
       "        text-align: right;\n",
       "    }\n",
       "</style>\n",
       "<table border=\"1\" class=\"dataframe\">\n",
       "  <thead>\n",
       "    <tr style=\"text-align: right;\">\n",
       "      <th></th>\n",
       "      <th>Pclass</th>\n",
       "      <th>Sex</th>\n",
       "      <th>Age</th>\n",
       "      <th>SibSp</th>\n",
       "      <th>Parch</th>\n",
       "      <th>Fare</th>\n",
       "      <th>Embarked</th>\n",
       "    </tr>\n",
       "  </thead>\n",
       "  <tbody>\n",
       "    <tr>\n",
       "      <th>0</th>\n",
       "      <td>1</td>\n",
       "      <td>0</td>\n",
       "      <td>0</td>\n",
       "      <td>0</td>\n",
       "      <td>0</td>\n",
       "      <td>0.0</td>\n",
       "      <td>0</td>\n",
       "    </tr>\n",
       "  </tbody>\n",
       "</table>\n",
       "</div>"
      ],
      "text/plain": [
       "   Pclass  Sex  Age  SibSp  Parch  Fare  Embarked\n",
       "0       1    0    0      0      0   0.0         0"
      ]
     },
     "execution_count": 15,
     "metadata": {},
     "output_type": "execute_result"
    }
   ],
   "source": [
    "df"
   ]
  },
  {
   "cell_type": "code",
   "execution_count": null,
   "id": "b0682874-3f07-4ec8-95fe-42105a762d02",
   "metadata": {},
   "outputs": [],
   "source": []
  }
 ],
 "metadata": {
  "kernelspec": {
   "display_name": "Python [conda env:base] *",
   "language": "python",
   "name": "conda-base-py"
  },
  "language_info": {
   "codemirror_mode": {
    "name": "ipython",
    "version": 3
   },
   "file_extension": ".py",
   "mimetype": "text/x-python",
   "name": "python",
   "nbconvert_exporter": "python",
   "pygments_lexer": "ipython3",
   "version": "3.12.7"
  }
 },
 "nbformat": 4,
 "nbformat_minor": 5
}
