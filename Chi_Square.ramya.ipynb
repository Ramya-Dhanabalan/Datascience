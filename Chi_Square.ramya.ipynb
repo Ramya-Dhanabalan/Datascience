{
 "cells": [
  {
   "cell_type": "markdown",
   "id": "6674fbfd-9d3f-4750-a1bd-6220b061bc82",
   "metadata": {},
   "source": [
    "### Chi-Square Test"
   ]
  },
  {
   "cell_type": "raw",
   "id": "9e0272c2-7a23-4c0c-9adf-c69ea74d3db0",
   "metadata": {},
   "source": [
    "Association between Device Type and Customer Satisfaction\n",
    "Background:\n",
    "Mizzare Corporation has collected data on customer satisfaction levels for two types of smart home devices: Smart Thermostats and Smart Lights. They want to determine if there's a significant association between the type of device purchased and the customer's satisfaction level.\n",
    "Data Provided:\n",
    "The data is summarized in a contingency table showing the counts of customers in each satisfaction level for both types of devices:\n",
    "Satisfaction\t Smart Thermostat   Smart Light\t Total\n",
    "Very Satisfied\t      50\t             70\t     120\n",
    "Satisfied\t          80\t             100\t 180\n",
    "Neutral\t              60\t             90\t     150\n",
    "Unsatisfied\t          30\t             50\t      80\n",
    "Very Unsatisfied\t  20\t             50\t      70\n",
    "Total\t             240\t            360\t     600\n",
    "Objective:\n",
    "To use the Chi-Square test for independence to determine if there's a significant association between the type of smart home device purchased (Smart Thermostats vs. Smart Lights) and the customer satisfaction level.\n",
    "Assignment Tasks:\n",
    "1. State the Hypotheses:\n",
    "2. Compute the Chi-Square Statistic:\n",
    "3. Determine the Critical Value:\n",
    "Using the significance level (alpha) of 0.05 and the degrees of freedom (which is the number of categories minus 1)\n",
    "4. Make a Decision:\n",
    "Compare the Chi-Square statistic with the critical value to decide whether to reject the null hypothesis.\n",
    "Submission Guidelines:\n",
    "•\tProvide a detailed report of your analysis, including each step outlined in the assignment tasks in a python file.\n",
    "•\tInclude all calculations, the Chi-Square statistic, the critical value, and your conclusion."
   ]
  },
  {
   "cell_type": "markdown",
   "id": "b2183a39-fa11-4fee-bb50-925c01c57a8b",
   "metadata": {},
   "source": [
    "## Chi-Square test"
   ]
  },
  {
   "cell_type": "raw",
   "id": "dad5f4f1-4c8e-419c-abe8-36b86e44baad",
   "metadata": {},
   "source": [
    "The chi-Square test is a statistical method used to determine whether there is a significant association between two categorical variables."
   ]
  },
  {
   "cell_type": "raw",
   "id": "8d94db02-1f67-4214-9f72-36a6f8faa0c2",
   "metadata": {},
   "source": [
    "**** Chi-Square Test of Independence------Tests if two categorical variables are related.\n",
    "**** Chi-Square Goodness of Fit Test------Tests if a sample matches the expected distribution."
   ]
  },
  {
   "cell_type": "markdown",
   "id": "ccac78fc-82ce-4495-bb15-b0cfff180890",
   "metadata": {},
   "source": [
    "### Question: To determine if there's a significant association between the type of smart home device purchased \n",
    "### (Smart Thermostats vs. Smart Lights) and the customer satisfaction level."
   ]
  },
  {
   "cell_type": "raw",
   "id": "a54fe957-8acd-439c-8c66-8778427dfa45",
   "metadata": {},
   "source": [
    "## State the Hypothesis:\n",
    "H0:There is no significance association between the type of smart home device purchased and the customer satisfaction level.\n",
    "Ha:There is a significance association between the type of smart home device purchased and the customer satisfaction level."
   ]
  },
  {
   "cell_type": "code",
   "execution_count": 2,
   "id": "e77cd016-0842-41ce-8aba-5738e909f957",
   "metadata": {},
   "outputs": [],
   "source": [
    "import pandas as pd\n",
    "import numpy as np\n",
    "import scipy.stats as stats"
   ]
  },
  {
   "cell_type": "code",
   "execution_count": 4,
   "id": "c0de5a54-054a-4271-98af-174630c2897c",
   "metadata": {},
   "outputs": [],
   "source": [
    "### Creating a dictionary to form the data frame\n",
    "dict={'Satisfaction':['Very Satisfied','Satisfied','Neutral','Unsatisfied','Very Unsatisfied'],'Smart Thermostat':[50,80,60,30,20],\n",
    "      'Smart Light':[70,100,90,50,50]}"
   ]
  },
  {
   "cell_type": "code",
   "execution_count": 5,
   "id": "a5c7e248-b72d-4e9c-9da2-9a50a07c0701",
   "metadata": {},
   "outputs": [
    {
     "data": {
      "text/plain": [
       "{'Satisfaction': ['Very Satisfied',\n",
       "  'Satisfied',\n",
       "  'Neutral',\n",
       "  'Unsatisfied',\n",
       "  'Very Unsatisfied'],\n",
       " 'Smart Thermostat': [50, 80, 60, 30, 20],\n",
       " 'Smart Light': [70, 100, 90, 50, 50]}"
      ]
     },
     "execution_count": 5,
     "metadata": {},
     "output_type": "execute_result"
    }
   ],
   "source": [
    "dict"
   ]
  },
  {
   "cell_type": "code",
   "execution_count": 7,
   "id": "81104050-7060-4a93-bf33-56307f4b855d",
   "metadata": {},
   "outputs": [
    {
     "data": {
      "text/html": [
       "<div>\n",
       "<style scoped>\n",
       "    .dataframe tbody tr th:only-of-type {\n",
       "        vertical-align: middle;\n",
       "    }\n",
       "\n",
       "    .dataframe tbody tr th {\n",
       "        vertical-align: top;\n",
       "    }\n",
       "\n",
       "    .dataframe thead th {\n",
       "        text-align: right;\n",
       "    }\n",
       "</style>\n",
       "<table border=\"1\" class=\"dataframe\">\n",
       "  <thead>\n",
       "    <tr style=\"text-align: right;\">\n",
       "      <th></th>\n",
       "      <th>Satisfaction</th>\n",
       "      <th>Smart Thermostat</th>\n",
       "      <th>Smart Light</th>\n",
       "    </tr>\n",
       "  </thead>\n",
       "  <tbody>\n",
       "    <tr>\n",
       "      <th>0</th>\n",
       "      <td>Very Satisfied</td>\n",
       "      <td>50</td>\n",
       "      <td>70</td>\n",
       "    </tr>\n",
       "    <tr>\n",
       "      <th>1</th>\n",
       "      <td>Satisfied</td>\n",
       "      <td>80</td>\n",
       "      <td>100</td>\n",
       "    </tr>\n",
       "    <tr>\n",
       "      <th>2</th>\n",
       "      <td>Neutral</td>\n",
       "      <td>60</td>\n",
       "      <td>90</td>\n",
       "    </tr>\n",
       "    <tr>\n",
       "      <th>3</th>\n",
       "      <td>Unsatisfied</td>\n",
       "      <td>30</td>\n",
       "      <td>50</td>\n",
       "    </tr>\n",
       "    <tr>\n",
       "      <th>4</th>\n",
       "      <td>Very Unsatisfied</td>\n",
       "      <td>20</td>\n",
       "      <td>50</td>\n",
       "    </tr>\n",
       "  </tbody>\n",
       "</table>\n",
       "</div>"
      ],
      "text/plain": [
       "       Satisfaction  Smart Thermostat  Smart Light\n",
       "0    Very Satisfied                50           70\n",
       "1         Satisfied                80          100\n",
       "2           Neutral                60           90\n",
       "3       Unsatisfied                30           50\n",
       "4  Very Unsatisfied                20           50"
      ]
     },
     "execution_count": 7,
     "metadata": {},
     "output_type": "execute_result"
    }
   ],
   "source": [
    "### creating a data frame\n",
    "df=pd.DataFrame(dict)\n",
    "df"
   ]
  },
  {
   "cell_type": "code",
   "execution_count": 8,
   "id": "7a61c051-ba95-4c1d-a739-c77e1849b8d3",
   "metadata": {},
   "outputs": [
    {
     "data": {
      "text/html": [
       "<div>\n",
       "<style scoped>\n",
       "    .dataframe tbody tr th:only-of-type {\n",
       "        vertical-align: middle;\n",
       "    }\n",
       "\n",
       "    .dataframe tbody tr th {\n",
       "        vertical-align: top;\n",
       "    }\n",
       "\n",
       "    .dataframe thead th {\n",
       "        text-align: right;\n",
       "    }\n",
       "</style>\n",
       "<table border=\"1\" class=\"dataframe\">\n",
       "  <thead>\n",
       "    <tr style=\"text-align: right;\">\n",
       "      <th></th>\n",
       "      <th>Smart Thermostat</th>\n",
       "      <th>Smart Light</th>\n",
       "    </tr>\n",
       "  </thead>\n",
       "  <tbody>\n",
       "    <tr>\n",
       "      <th>0</th>\n",
       "      <td>50</td>\n",
       "      <td>70</td>\n",
       "    </tr>\n",
       "    <tr>\n",
       "      <th>1</th>\n",
       "      <td>80</td>\n",
       "      <td>100</td>\n",
       "    </tr>\n",
       "    <tr>\n",
       "      <th>2</th>\n",
       "      <td>60</td>\n",
       "      <td>90</td>\n",
       "    </tr>\n",
       "    <tr>\n",
       "      <th>3</th>\n",
       "      <td>30</td>\n",
       "      <td>50</td>\n",
       "    </tr>\n",
       "    <tr>\n",
       "      <th>4</th>\n",
       "      <td>20</td>\n",
       "      <td>50</td>\n",
       "    </tr>\n",
       "  </tbody>\n",
       "</table>\n",
       "</div>"
      ],
      "text/plain": [
       "   Smart Thermostat  Smart Light\n",
       "0                50           70\n",
       "1                80          100\n",
       "2                60           90\n",
       "3                30           50\n",
       "4                20           50"
      ]
     },
     "execution_count": 8,
     "metadata": {},
     "output_type": "execute_result"
    }
   ],
   "source": [
    "## filtering the numerical from the data set\n",
    "df1=df.select_dtypes(include=np.number)\n",
    "df1"
   ]
  },
  {
   "cell_type": "markdown",
   "id": "b13af2e8-6fed-4e24-8a2b-4e470f7440c1",
   "metadata": {},
   "source": [
    "## Compute the Chi-Square Statistic:"
   ]
  },
  {
   "cell_type": "raw",
   "id": "c9ddae96-de35-4ee3-8a81-577457d68da1",
   "metadata": {},
   "source": [
    "Chi-Square Test---chi-square_stats:(summation of [(square of(excepted value))-(observed value))/excepted value]),but we can be compute\n",
    "using In-build function package"
   ]
  },
  {
   "cell_type": "code",
   "execution_count": 12,
   "id": "66df1dcb-eb7a-4a0e-be32-3dfaee4c4ffa",
   "metadata": {},
   "outputs": [
    {
     "data": {
      "text/plain": [
       "Chi2ContingencyResult(statistic=5.638227513227513, pvalue=0.22784371130697179, dof=4, expected_freq=array([[ 48.,  72.],\n",
       "       [ 72., 108.],\n",
       "       [ 60.,  90.],\n",
       "       [ 32.,  48.],\n",
       "       [ 28.,  42.]]))"
      ]
     },
     "execution_count": 12,
     "metadata": {},
     "output_type": "execute_result"
    }
   ],
   "source": [
    "chi2_stats=stats.chi2_contingency(df1)\n",
    "chi2_stats"
   ]
  },
  {
   "cell_type": "raw",
   "id": "ac06f20b-f588-40f8-b4e7-024489a92cbe",
   "metadata": {},
   "source": [
    " ## Determine the Critical Value:\n",
    " ## Given:\n",
    " Using the significance level (alpha) of 0.05 and \n",
    " the degrees of freedom (which is the number of categories minus 1)\n",
    " ## degree of freedom=(number of rows-1)*(number of column-1):(5-1)*(2-1)=4*1=4 dof=4 ## Already we calculated "
   ]
  },
  {
   "cell_type": "code",
   "execution_count": 13,
   "id": "2f872bc9-981c-4420-a60c-801b1ae8d7b5",
   "metadata": {},
   "outputs": [
    {
     "data": {
      "text/plain": [
       "9.487729036781154"
      ]
     },
     "execution_count": 13,
     "metadata": {},
     "output_type": "execute_result"
    }
   ],
   "source": [
    "chi_critical=stats.chi2.ppf(0.95,4)\n",
    "chi_critical"
   ]
  },
  {
   "cell_type": "markdown",
   "id": "bc909d69-8e84-41f3-b453-e3a0fa559672",
   "metadata": {},
   "source": [
    "## Conclusion:"
   ]
  },
  {
   "cell_type": "raw",
   "id": "f57c2f0d-645d-4dcf-9305-819e34152846",
   "metadata": {},
   "source": [
    "From the above Calculation:\n",
    "we have chi_stats=5.638227513227513\n",
    "        chi_critical=9.487729036781154\n",
    "since,chi_stats<chi_critical so,we failed to reject H0(null hypothesis)\n",
    "and also pvalue is more than the significance level so,we failed to reject null hypothesis(H0)\n",
    "\n",
    "Result:There is no significance association between the type of smart home device purchased and the customer satisfaction level."
   ]
  }
 ],
 "metadata": {
  "kernelspec": {
   "display_name": "Python [conda env:base] *",
   "language": "python",
   "name": "conda-base-py"
  },
  "language_info": {
   "codemirror_mode": {
    "name": "ipython",
    "version": 3
   },
   "file_extension": ".py",
   "mimetype": "text/x-python",
   "name": "python",
   "nbconvert_exporter": "python",
   "pygments_lexer": "ipython3",
   "version": "3.12.7"
  }
 },
 "nbformat": 4,
 "nbformat_minor": 5
}
